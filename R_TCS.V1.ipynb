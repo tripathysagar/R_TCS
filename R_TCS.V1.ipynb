{
 "cells": [
  {
   "cell_type": "markdown",
   "metadata": {},
   "source": [
    "## REST_Test_Case_Simulator\n"
   ]
  },
  {
   "cell_type": "code",
   "execution_count": 3,
   "metadata": {},
   "outputs": [],
   "source": [
    "import re\n",
    "import requests\n",
    "import random"
   ]
  },
  {
   "cell_type": "code",
   "execution_count": 4,
   "metadata": {},
   "outputs": [],
   "source": [
    "\"\"\"Validator Functions\"\"\"\n",
    "HTTP_methods = ['GET', 'POST', 'PUT', 'DELETE', 'HEAD', 'OPTIONS']\n",
    "\n",
    "def validate_method(method):\n",
    "    \"\"\"\n",
    "    method :  dtype string\n",
    "    Returns True is methhod is among HTTP_methods\n",
    "    else False\n",
    "    \"\"\"\n",
    "    \n",
    "    return method not in HTTP_methods\n",
    "\n",
    "def validate_url(url):\n",
    "    \"\"\"\n",
    "    Credit: django url validation regex(https://github.com/django/django/blob/stable/1.3.x/django/core/validators.py#L45)\n",
    "    method :  dtype string\n",
    "    Returns True is url is a valid one\n",
    "    else False\n",
    "    \"\"\"\n",
    "    regex = re.compile(\n",
    "        r'^(?:http|ftp)s?://' # http:// or https://\n",
    "        r'(?:(?:[A-Z0-9](?:[A-Z0-9-]{0,61}[A-Z0-9])?\\.)+(?:[A-Z]{2,6}\\.?|[A-Z0-9-]{2,}\\.?)|' #domain...\n",
    "        r'localhost|' #localhost...\n",
    "        r'\\d{1,3}\\.\\d{1,3}\\.\\d{1,3}\\.\\d{1,3})' # ...or ip\n",
    "        r'(?::\\d+)?' # optional port\n",
    "        r'(?:/?|[/?]\\S+)$', re.IGNORECASE)\n",
    "    \n",
    "    return (re.match(regex, url) is None)\n",
    " \n",
    "class make_req_Exception(Exception): \n",
    "  \n",
    "    # Constructor or Initializer \n",
    "    def __init__(self, var, val, msg): \n",
    "        self.msg = msg\n",
    "        self.var = var\n",
    "        self.val = val\n",
    "  \n",
    "    # __str__ is to print() the value \n",
    "    def __str__(self): \n",
    "        \n",
    "        return(repr('invalid {} -> {}, expected {}'.format(self.var, self.val, self.msg)))\n",
    "        "
   ]
  },
  {
   "cell_type": "code",
   "execution_count": 7,
   "metadata": {},
   "outputs": [],
   "source": [
    "class make_req:\n",
    "    \n",
    "    def __init__(self, method, url, params, headers, body):\n",
    "        \"\"\"\n",
    "        method : dtype string, represents HTTP method\n",
    "        url : dtype string, represents host adress \n",
    "        params : dtype list of tuples, each tuple represents pair of 'Key' and 'Value'\n",
    "        headers : dtype dictionary, represents pair of 'Key' and 'Value'\n",
    "        body : dtype dictionary, represents JSON body\n",
    "        \n",
    "        \"\"\"\n",
    "        try:\n",
    "            self.method = method.upper()\n",
    "            \n",
    "            #validate method\n",
    "            if validate_method(self.method):\n",
    "                raise(make_req_Exception('method', method, 'out of scope HTTP method'))\n",
    "        \n",
    "        except make_req_Exception as error: \n",
    "            print(error)  \n",
    "            raise SystemExit(0)\n",
    "            \n",
    "        try:\n",
    "            self.url = url\n",
    "            \n",
    "            #validate url\n",
    "            if validate_url(self.url):\n",
    "                raise(make_req_Exception('url', url, 'valid url'))\n",
    "        \n",
    "        except make_req_Exception as error: \n",
    "            print(error)  \n",
    "            raise SystemExit(0)\n",
    "        \n",
    "        \n",
    "        self.params = params\n",
    "        self.headers = headers\n",
    "        self.body = body\n",
    "        \n",
    "    \n",
    "    def show_inputs(self):\n",
    "        \"\"\"\n",
    "        Aim of this method is to show the parameters of the request \n",
    "        \"\"\"\n",
    "        print(\"method : {}\".format(type(self.method)))\n",
    "        print(\"url : {}\".format(self.url))\n",
    "        print(\"params : {}\".format(self.params ))\n",
    "        print(\"headers : {}\".format(self.headers ))\n",
    "        print(\"body : {}\".format(self.body ))\n",
    "    \n",
    "    def swaping(self):\n",
    "        \"\"\"\n",
    "        Aim of this method is do shuffle params field of the request\n",
    "        \"\"\"\n",
    "        if self.params:\n",
    "            random.shuffle(self.params)\n",
    "    \n",
    "    \n",
    "    def call(self, set_random = False, **kwargs):\n",
    "        #suffle the params field in the request\n",
    "        if set_random: \n",
    "                self.swaping()\n",
    "                \n",
    "        \n",
    "        #return requests.request(self.method, self.url, params = self.params, headers = self.headers, data = self.body, allow_redirects  = allow_redirects)\n",
    "        \n",
    "        \n",
    "        return requests.request(self.method, self.url, params = self.params, headers = self.headers, data = self.body, **kwargs)\n",
    "        "
   ]
  },
  {
   "cell_type": "code",
   "execution_count": 8,
   "metadata": {},
   "outputs": [
    {
     "name": "stdout",
     "output_type": "stream",
     "text": [
      "method : <class 'str'>\n",
      "url : https://reqres.in/api/users\n",
      "params : [('page', '2'), ('page', '1')]\n",
      "headers : None\n",
      "body : None\n"
     ]
    }
   ],
   "source": [
    "req = make_req('get', 'https://reqres.in/api/users', [('page', '2'),('page', '1')], None, None)\n",
    "req.show_inputs()"
   ]
  },
  {
   "cell_type": "markdown",
   "metadata": {},
   "source": [
    "\n",
    "## Use Below variables:\n",
    "$$\n",
    "allow\\_redirects = \\left\\{\n",
    "    \\begin{array}\\\\\n",
    "        True & \\mbox{if enable redirection handling} \\\\\n",
    "        False & \\mbox{if disable redirection handling} \\\\\n",
    "    \\end{array}\n",
    "\\right.\n",
    "$$\n",
    "\n",
    "\n",
    "\n"
   ]
  },
  {
   "cell_type": "code",
   "execution_count": 12,
   "metadata": {},
   "outputs": [
    {
     "data": {
      "text/plain": [
       "'{\"page\":1,\"per_page\":6,\"total\":12,\"total_pages\":2,\"data\":[{\"id\":1,\"email\":\"george.bluth@reqres.in\",\"first_name\":\"George\",\"last_name\":\"Bluth\",\"avatar\":\"https://s3.amazonaws.com/uifaces/faces/twitter/calebogden/128.jpg\"},{\"id\":2,\"email\":\"janet.weaver@reqres.in\",\"first_name\":\"Janet\",\"last_name\":\"Weaver\",\"avatar\":\"https://s3.amazonaws.com/uifaces/faces/twitter/josephstein/128.jpg\"},{\"id\":3,\"email\":\"emma.wong@reqres.in\",\"first_name\":\"Emma\",\"last_name\":\"Wong\",\"avatar\":\"https://s3.amazonaws.com/uifaces/faces/twitter/olegpogodaev/128.jpg\"},{\"id\":4,\"email\":\"eve.holt@reqres.in\",\"first_name\":\"Eve\",\"last_name\":\"Holt\",\"avatar\":\"https://s3.amazonaws.com/uifaces/faces/twitter/marcoramires/128.jpg\"},{\"id\":5,\"email\":\"charles.morris@reqres.in\",\"first_name\":\"Charles\",\"last_name\":\"Morris\",\"avatar\":\"https://s3.amazonaws.com/uifaces/faces/twitter/stephenmoon/128.jpg\"},{\"id\":6,\"email\":\"tracey.ramos@reqres.in\",\"first_name\":\"Tracey\",\"last_name\":\"Ramos\",\"avatar\":\"https://s3.amazonaws.com/uifaces/faces/twitter/bigmancho/128.jpg\"}],\"ad\":{\"company\":\"StatusCode Weekly\",\"url\":\"http://statuscode.org/\",\"text\":\"A weekly newsletter focusing on software development, infrastructure, the server, performance, and the stack end of things.\"}}'"
      ]
     },
     "execution_count": 12,
     "metadata": {},
     "output_type": "execute_result"
    }
   ],
   "source": [
    "x = req.call(set_random = True, allow_redirects= False)\n",
    "x.text"
   ]
  },
  {
   "cell_type": "code",
   "execution_count": 13,
   "metadata": {},
   "outputs": [
    {
     "data": {
      "text/plain": [
       "'https://reqres.in/api/users?page=1&page=2'"
      ]
     },
     "execution_count": 13,
     "metadata": {},
     "output_type": "execute_result"
    }
   ],
   "source": [
    "x.url\n"
   ]
  },
  {
   "cell_type": "code",
   "execution_count": null,
   "metadata": {},
   "outputs": [],
   "source": []
  }
 ],
 "metadata": {
  "kernelspec": {
   "display_name": "Python 3",
   "language": "python",
   "name": "python3"
  },
  "language_info": {
   "codemirror_mode": {
    "name": "ipython",
    "version": 3
   },
   "file_extension": ".py",
   "mimetype": "text/x-python",
   "name": "python",
   "nbconvert_exporter": "python",
   "pygments_lexer": "ipython3",
   "version": "3.7.4"
  }
 },
 "nbformat": 4,
 "nbformat_minor": 4
}
